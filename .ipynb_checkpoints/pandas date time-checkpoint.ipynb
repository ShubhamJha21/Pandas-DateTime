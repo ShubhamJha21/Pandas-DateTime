{
 "cells": [
  {
   "cell_type": "markdown",
   "metadata": {},
   "source": [
    "### `import libraries`"
   ]
  },
  {
   "cell_type": "code",
   "execution_count": 1,
   "metadata": {},
   "outputs": [],
   "source": [
    "import pandas as pd\n",
    "import datetime as dt"
   ]
  },
  {
   "cell_type": "markdown",
   "metadata": {},
   "source": [
    "   ### `Review Python's datetime module`"
   ]
  },
  {
   "cell_type": "code",
   "execution_count": 2,
   "metadata": {},
   "outputs": [],
   "source": [
    "today = dt.datetime(2020,5,3)"
   ]
  },
  {
   "cell_type": "code",
   "execution_count": 3,
   "metadata": {},
   "outputs": [
    {
     "data": {
      "text/plain": [
       "2020"
      ]
     },
     "execution_count": 3,
     "metadata": {},
     "output_type": "execute_result"
    }
   ],
   "source": [
    "today.year"
   ]
  },
  {
   "cell_type": "code",
   "execution_count": 4,
   "metadata": {},
   "outputs": [
    {
     "data": {
      "text/plain": [
       "3"
      ]
     },
     "execution_count": 4,
     "metadata": {},
     "output_type": "execute_result"
    }
   ],
   "source": [
    "today.day"
   ]
  },
  {
   "cell_type": "code",
   "execution_count": 5,
   "metadata": {},
   "outputs": [
    {
     "data": {
      "text/plain": [
       "5"
      ]
     },
     "execution_count": 5,
     "metadata": {},
     "output_type": "execute_result"
    }
   ],
   "source": [
    "today.month"
   ]
  },
  {
   "cell_type": "code",
   "execution_count": 6,
   "metadata": {},
   "outputs": [],
   "source": [
    "today = dt.datetime(2020,5,3,17,46,30)"
   ]
  },
  {
   "cell_type": "code",
   "execution_count": 7,
   "metadata": {},
   "outputs": [
    {
     "data": {
      "text/plain": [
       "datetime.datetime(2020, 5, 3, 17, 46, 30)"
      ]
     },
     "execution_count": 7,
     "metadata": {},
     "output_type": "execute_result"
    }
   ],
   "source": [
    "today"
   ]
  },
  {
   "cell_type": "code",
   "execution_count": 8,
   "metadata": {},
   "outputs": [
    {
     "name": "stdout",
     "output_type": "stream",
     "text": [
      "2020-05-03 17:46:30\n"
     ]
    }
   ],
   "source": [
    "print(today)"
   ]
  },
  {
   "cell_type": "code",
   "execution_count": 9,
   "metadata": {},
   "outputs": [
    {
     "ename": "TypeError",
     "evalue": "an integer is required (got type str)",
     "output_type": "error",
     "traceback": [
      "\u001b[1;31m---------------------------------------------------------------------------\u001b[0m",
      "\u001b[1;31mTypeError\u001b[0m                                 Traceback (most recent call last)",
      "\u001b[1;32m<ipython-input-9-409b3339b55f>\u001b[0m in \u001b[0;36m<module>\u001b[1;34m\u001b[0m\n\u001b[1;32m----> 1\u001b[1;33m \u001b[0mtoday\u001b[0m \u001b[1;33m=\u001b[0m \u001b[0mdt\u001b[0m\u001b[1;33m.\u001b[0m\u001b[0mdatetime\u001b[0m\u001b[1;33m(\u001b[0m\u001b[1;34m\"2020/05/03\"\u001b[0m\u001b[1;33m)\u001b[0m\u001b[1;33m\u001b[0m\u001b[1;33m\u001b[0m\u001b[0m\n\u001b[0m",
      "\u001b[1;31mTypeError\u001b[0m: an integer is required (got type str)"
     ]
    }
   ],
   "source": [
    "today = dt.datetime(\"2020/05/03\")"
   ]
  },
  {
   "cell_type": "code",
   "execution_count": 10,
   "metadata": {},
   "outputs": [
    {
     "ename": "SyntaxError",
     "evalue": "leading zeros in decimal integer literals are not permitted; use an 0o prefix for octal integers (<ipython-input-10-c30a1a218933>, line 1)",
     "output_type": "error",
     "traceback": [
      "\u001b[1;36m  File \u001b[1;32m\"<ipython-input-10-c30a1a218933>\"\u001b[1;36m, line \u001b[1;32m1\u001b[0m\n\u001b[1;33m    today = dt.datetime(2020/05/03)\u001b[0m\n\u001b[1;37m                              ^\u001b[0m\n\u001b[1;31mSyntaxError\u001b[0m\u001b[1;31m:\u001b[0m leading zeros in decimal integer literals are not permitted; use an 0o prefix for octal integers\n"
     ]
    }
   ],
   "source": [
    "today = dt.datetime(2020/05/03)"
   ]
  },
  {
   "cell_type": "markdown",
   "metadata": {},
   "source": [
    "### `TimeStamp` use to solve above error. To use TimeStamp we can use any format of date for same output"
   ]
  },
  {
   "cell_type": "code",
   "execution_count": 11,
   "metadata": {},
   "outputs": [
    {
     "data": {
      "text/plain": [
       "Timestamp('2020-05-03 23:26:00')"
      ]
     },
     "execution_count": 11,
     "metadata": {},
     "output_type": "execute_result"
    }
   ],
   "source": [
    "pd.Timestamp(\"2020-05-03\")\n",
    "pd.Timestamp(\"2020/05/03\")\n",
    "pd.Timestamp(\"2020-05-03 11:26:00 PM\")"
   ]
  },
  {
   "cell_type": "markdown",
   "metadata": {},
   "source": [
    "### `DateTimeIndex`"
   ]
  },
  {
   "cell_type": "code",
   "execution_count": 12,
   "metadata": {},
   "outputs": [],
   "source": [
    "dates = ['04/05/2020','05/05/2020']"
   ]
  },
  {
   "cell_type": "code",
   "execution_count": 13,
   "metadata": {},
   "outputs": [
    {
     "data": {
      "text/plain": [
       "DatetimeIndex(['2020-04-05', '2020-05-05'], dtype='datetime64[ns]', freq=None)"
      ]
     },
     "execution_count": 13,
     "metadata": {},
     "output_type": "execute_result"
    }
   ],
   "source": [
    "pd.DatetimeIndex(dates)"
   ]
  },
  {
   "cell_type": "markdown",
   "metadata": {},
   "source": [
    "### `pd.to_datetime`"
   ]
  },
  {
   "cell_type": "code",
   "execution_count": 14,
   "metadata": {},
   "outputs": [
    {
     "data": {
      "text/plain": [
       "Timestamp('2020-05-04 00:00:00')"
      ]
     },
     "execution_count": 14,
     "metadata": {},
     "output_type": "execute_result"
    }
   ],
   "source": [
    "pd.to_datetime('2020/05/04')"
   ]
  },
  {
   "cell_type": "markdown",
   "metadata": {},
   "source": [
    "### We can use dt.date(2020,5,4) for same output"
   ]
  },
  {
   "cell_type": "code",
   "execution_count": 15,
   "metadata": {},
   "outputs": [
    {
     "data": {
      "text/plain": [
       "Timestamp('2020-05-04 00:00:00')"
      ]
     },
     "execution_count": 15,
     "metadata": {},
     "output_type": "execute_result"
    }
   ],
   "source": [
    "pd.to_datetime(dt.date(2020,5,4))"
   ]
  },
  {
   "cell_type": "code",
   "execution_count": 16,
   "metadata": {},
   "outputs": [
    {
     "data": {
      "text/plain": [
       "Timestamp('2020-04-03 15:30:27')"
      ]
     },
     "execution_count": 16,
     "metadata": {},
     "output_type": "execute_result"
    }
   ],
   "source": [
    "pd.to_datetime(dt.datetime(2020,4,3,15,30,27))"
   ]
  },
  {
   "cell_type": "code",
   "execution_count": 17,
   "metadata": {},
   "outputs": [],
   "source": [
    "#Generating Series\n",
    "dates = pd.Series(['04 may, 2020','05 may,2020', \"this is today date\"])"
   ]
  },
  {
   "cell_type": "code",
   "execution_count": 18,
   "metadata": {},
   "outputs": [
    {
     "data": {
      "text/plain": [
       "0          04 may, 2020\n",
       "1           05 may,2020\n",
       "2    this is today date\n",
       "dtype: object"
      ]
     },
     "execution_count": 18,
     "metadata": {},
     "output_type": "execute_result"
    }
   ],
   "source": [
    "dates"
   ]
  },
  {
   "cell_type": "markdown",
   "metadata": {},
   "source": [
    "### To remove invalid parsing use errors='coerce'"
   ]
  },
  {
   "cell_type": "code",
   "execution_count": 19,
   "metadata": {},
   "outputs": [
    {
     "data": {
      "text/plain": [
       "0   2020-05-04\n",
       "1   2020-05-05\n",
       "2          NaT\n",
       "dtype: datetime64[ns]"
      ]
     },
     "execution_count": 19,
     "metadata": {},
     "output_type": "execute_result"
    }
   ],
   "source": [
    "pd.to_datetime(dates,errors='coerce')"
   ]
  },
  {
   "cell_type": "code",
   "execution_count": 20,
   "metadata": {},
   "outputs": [
    {
     "data": {
      "text/plain": [
       "DatetimeIndex(['1970-01-01 03:23:54', '1970-01-01 03:23:54',\n",
       "               '1970-01-01 15:10:54', '1970-01-07 13:39:27'],\n",
       "              dtype='datetime64[ns]', freq=None)"
      ]
     },
     "execution_count": 20,
     "metadata": {},
     "output_type": "execute_result"
    }
   ],
   "source": [
    "unixtime =[12234,12234,54654,567567]\n",
    "pd.to_datetime(unixtime,unit='s')"
   ]
  },
  {
   "cell_type": "markdown",
   "metadata": {},
   "source": [
    "   ### Creat range in form of Date `pd.date_range()`"
   ]
  },
  {
   "cell_type": "code",
   "execution_count": 21,
   "metadata": {},
   "outputs": [],
   "source": [
    "# Frequency based on dates\n",
    "time = pd.date_range(start=\"22/5/2020\" ,end = \"22/5/2021\",freq='D')\n"
   ]
  },
  {
   "cell_type": "code",
   "execution_count": 22,
   "metadata": {},
   "outputs": [
    {
     "data": {
      "text/plain": [
       "DatetimeIndex(['2020-05-22', '2020-05-23', '2020-05-24', '2020-05-25',\n",
       "               '2020-05-26', '2020-05-27', '2020-05-28', '2020-05-29',\n",
       "               '2020-05-30', '2020-05-31',\n",
       "               ...\n",
       "               '2021-05-13', '2021-05-14', '2021-05-15', '2021-05-16',\n",
       "               '2021-05-17', '2021-05-18', '2021-05-19', '2021-05-20',\n",
       "               '2021-05-21', '2021-05-22'],\n",
       "              dtype='datetime64[ns]', length=366, freq='D')"
      ]
     },
     "execution_count": 22,
     "metadata": {},
     "output_type": "execute_result"
    }
   ],
   "source": [
    "time"
   ]
  },
  {
   "cell_type": "code",
   "execution_count": 23,
   "metadata": {},
   "outputs": [
    {
     "data": {
      "text/plain": [
       "DatetimeIndex(['2020-12-31'], dtype='datetime64[ns]', freq='A-DEC')"
      ]
     },
     "execution_count": 23,
     "metadata": {},
     "output_type": "execute_result"
    }
   ],
   "source": [
    "# Frequency based on year \n",
    "time = pd.date_range(start=\"22/5/2020\" ,end = \"22/5/2021\",freq='A')\n",
    "time\n"
   ]
  },
  {
   "cell_type": "code",
   "execution_count": 24,
   "metadata": {},
   "outputs": [
    {
     "data": {
      "text/plain": [
       "DatetimeIndex(['2020-05-24', '2020-05-31', '2020-06-07', '2020-06-14',\n",
       "               '2020-06-21', '2020-06-28', '2020-07-05', '2020-07-12',\n",
       "               '2020-07-19', '2020-07-26', '2020-08-02', '2020-08-09',\n",
       "               '2020-08-16', '2020-08-23', '2020-08-30', '2020-09-06',\n",
       "               '2020-09-13', '2020-09-20', '2020-09-27', '2020-10-04',\n",
       "               '2020-10-11', '2020-10-18', '2020-10-25', '2020-11-01',\n",
       "               '2020-11-08', '2020-11-15', '2020-11-22', '2020-11-29',\n",
       "               '2020-12-06', '2020-12-13', '2020-12-20', '2020-12-27',\n",
       "               '2021-01-03', '2021-01-10', '2021-01-17', '2021-01-24',\n",
       "               '2021-01-31', '2021-02-07', '2021-02-14', '2021-02-21',\n",
       "               '2021-02-28', '2021-03-07', '2021-03-14', '2021-03-21',\n",
       "               '2021-03-28', '2021-04-04', '2021-04-11', '2021-04-18',\n",
       "               '2021-04-25', '2021-05-02', '2021-05-09', '2021-05-16'],\n",
       "              dtype='datetime64[ns]', freq='W-SUN')"
      ]
     },
     "execution_count": 24,
     "metadata": {},
     "output_type": "execute_result"
    }
   ],
   "source": [
    "# Frequency based on week\n",
    "time = pd.date_range(start=\"22/5/2020\" ,end = \"22/5/2021\",freq='W')\n",
    "time"
   ]
  },
  {
   "cell_type": "code",
   "execution_count": 25,
   "metadata": {},
   "outputs": [
    {
     "data": {
      "text/plain": [
       "DatetimeIndex(['2020-05-22 00:00:00', '2020-05-22 01:00:00',\n",
       "               '2020-05-22 02:00:00', '2020-05-22 03:00:00',\n",
       "               '2020-05-22 04:00:00', '2020-05-22 05:00:00',\n",
       "               '2020-05-22 06:00:00', '2020-05-22 07:00:00',\n",
       "               '2020-05-22 08:00:00', '2020-05-22 09:00:00',\n",
       "               ...\n",
       "               '2021-05-21 15:00:00', '2021-05-21 16:00:00',\n",
       "               '2021-05-21 17:00:00', '2021-05-21 18:00:00',\n",
       "               '2021-05-21 19:00:00', '2021-05-21 20:00:00',\n",
       "               '2021-05-21 21:00:00', '2021-05-21 22:00:00',\n",
       "               '2021-05-21 23:00:00', '2021-05-22 00:00:00'],\n",
       "              dtype='datetime64[ns]', length=8761, freq='H')"
      ]
     },
     "execution_count": 25,
     "metadata": {},
     "output_type": "execute_result"
    }
   ],
   "source": [
    "# Frequency based on hours\n",
    "time = pd.date_range(start=\"22/5/2020\" ,end = \"22/5/2021\",freq='H')\n",
    "time"
   ]
  },
  {
   "cell_type": "markdown",
   "metadata": {},
   "source": [
    "### `datareader` stock data"
   ]
  },
  {
   "cell_type": "code",
   "execution_count": 26,
   "metadata": {},
   "outputs": [
    {
     "name": "stderr",
     "output_type": "stream",
     "text": [
      "c:\\python38\\lib\\site-packages\\pandas_datareader\\compat\\__init__.py:7: FutureWarning: pandas.util.testing is deprecated. Use the functions in the public API at pandas.testing instead.\n",
      "  from pandas.util.testing import assert_frame_equal\n"
     ]
    }
   ],
   "source": [
    "# ! pip install pandas_datareader\n",
    "\n",
    "from pandas_datareader import data\n"
   ]
  },
  {
   "cell_type": "markdown",
   "metadata": {},
   "source": [
    "### Let see current stocks of TESLA"
   ]
  },
  {
   "cell_type": "code",
   "execution_count": 27,
   "metadata": {},
   "outputs": [],
   "source": [
    "company = \"TSLA\"\n",
    "start = \"2020-01-01\"\n",
    "end = \"2020-05-03\"\n"
   ]
  },
  {
   "cell_type": "code",
   "execution_count": 28,
   "metadata": {},
   "outputs": [],
   "source": [
    "# data_source = yahoo\n",
    "stocks = data.DataReader(name=company,data_source='yahoo',start=start,end = end)"
   ]
  },
  {
   "cell_type": "code",
   "execution_count": 29,
   "metadata": {},
   "outputs": [
    {
     "data": {
      "text/html": [
       "<div>\n",
       "<style scoped>\n",
       "    .dataframe tbody tr th:only-of-type {\n",
       "        vertical-align: middle;\n",
       "    }\n",
       "\n",
       "    .dataframe tbody tr th {\n",
       "        vertical-align: top;\n",
       "    }\n",
       "\n",
       "    .dataframe thead th {\n",
       "        text-align: right;\n",
       "    }\n",
       "</style>\n",
       "<table border=\"1\" class=\"dataframe\">\n",
       "  <thead>\n",
       "    <tr style=\"text-align: right;\">\n",
       "      <th></th>\n",
       "      <th>High</th>\n",
       "      <th>Low</th>\n",
       "      <th>Open</th>\n",
       "      <th>Close</th>\n",
       "      <th>Volume</th>\n",
       "      <th>Adj Close</th>\n",
       "    </tr>\n",
       "    <tr>\n",
       "      <th>Date</th>\n",
       "      <th></th>\n",
       "      <th></th>\n",
       "      <th></th>\n",
       "      <th></th>\n",
       "      <th></th>\n",
       "      <th></th>\n",
       "    </tr>\n",
       "  </thead>\n",
       "  <tbody>\n",
       "    <tr>\n",
       "      <th>2019-12-31</th>\n",
       "      <td>421.290009</td>\n",
       "      <td>402.079987</td>\n",
       "      <td>405.000000</td>\n",
       "      <td>418.329987</td>\n",
       "      <td>10285700</td>\n",
       "      <td>418.329987</td>\n",
       "    </tr>\n",
       "    <tr>\n",
       "      <th>2020-01-02</th>\n",
       "      <td>430.700012</td>\n",
       "      <td>421.709991</td>\n",
       "      <td>424.500000</td>\n",
       "      <td>430.260010</td>\n",
       "      <td>9532100</td>\n",
       "      <td>430.260010</td>\n",
       "    </tr>\n",
       "    <tr>\n",
       "      <th>2020-01-03</th>\n",
       "      <td>454.000000</td>\n",
       "      <td>436.920013</td>\n",
       "      <td>440.500000</td>\n",
       "      <td>443.010010</td>\n",
       "      <td>17778500</td>\n",
       "      <td>443.010010</td>\n",
       "    </tr>\n",
       "    <tr>\n",
       "      <th>2020-01-06</th>\n",
       "      <td>451.559998</td>\n",
       "      <td>440.000000</td>\n",
       "      <td>440.470001</td>\n",
       "      <td>451.540009</td>\n",
       "      <td>10133000</td>\n",
       "      <td>451.540009</td>\n",
       "    </tr>\n",
       "    <tr>\n",
       "      <th>2020-01-07</th>\n",
       "      <td>471.630005</td>\n",
       "      <td>453.359985</td>\n",
       "      <td>461.399994</td>\n",
       "      <td>469.059998</td>\n",
       "      <td>17882100</td>\n",
       "      <td>469.059998</td>\n",
       "    </tr>\n",
       "    <tr>\n",
       "      <th>...</th>\n",
       "      <td>...</td>\n",
       "      <td>...</td>\n",
       "      <td>...</td>\n",
       "      <td>...</td>\n",
       "      <td>...</td>\n",
       "      <td>...</td>\n",
       "    </tr>\n",
       "    <tr>\n",
       "      <th>2020-04-27</th>\n",
       "      <td>799.489990</td>\n",
       "      <td>735.000000</td>\n",
       "      <td>737.609985</td>\n",
       "      <td>798.750000</td>\n",
       "      <td>20681400</td>\n",
       "      <td>798.750000</td>\n",
       "    </tr>\n",
       "    <tr>\n",
       "      <th>2020-04-28</th>\n",
       "      <td>805.000000</td>\n",
       "      <td>756.690002</td>\n",
       "      <td>795.640015</td>\n",
       "      <td>769.119995</td>\n",
       "      <td>15222000</td>\n",
       "      <td>769.119995</td>\n",
       "    </tr>\n",
       "    <tr>\n",
       "      <th>2020-04-29</th>\n",
       "      <td>803.200012</td>\n",
       "      <td>783.159973</td>\n",
       "      <td>790.169983</td>\n",
       "      <td>800.510010</td>\n",
       "      <td>16216000</td>\n",
       "      <td>800.510010</td>\n",
       "    </tr>\n",
       "    <tr>\n",
       "      <th>2020-04-30</th>\n",
       "      <td>869.820007</td>\n",
       "      <td>763.500000</td>\n",
       "      <td>855.190002</td>\n",
       "      <td>781.880005</td>\n",
       "      <td>28471900</td>\n",
       "      <td>781.880005</td>\n",
       "    </tr>\n",
       "    <tr>\n",
       "      <th>2020-05-01</th>\n",
       "      <td>772.770020</td>\n",
       "      <td>683.039978</td>\n",
       "      <td>755.000000</td>\n",
       "      <td>701.320007</td>\n",
       "      <td>32479600</td>\n",
       "      <td>701.320007</td>\n",
       "    </tr>\n",
       "  </tbody>\n",
       "</table>\n",
       "<p>85 rows × 6 columns</p>\n",
       "</div>"
      ],
      "text/plain": [
       "                  High         Low        Open       Close    Volume  \\\n",
       "Date                                                                   \n",
       "2019-12-31  421.290009  402.079987  405.000000  418.329987  10285700   \n",
       "2020-01-02  430.700012  421.709991  424.500000  430.260010   9532100   \n",
       "2020-01-03  454.000000  436.920013  440.500000  443.010010  17778500   \n",
       "2020-01-06  451.559998  440.000000  440.470001  451.540009  10133000   \n",
       "2020-01-07  471.630005  453.359985  461.399994  469.059998  17882100   \n",
       "...                ...         ...         ...         ...       ...   \n",
       "2020-04-27  799.489990  735.000000  737.609985  798.750000  20681400   \n",
       "2020-04-28  805.000000  756.690002  795.640015  769.119995  15222000   \n",
       "2020-04-29  803.200012  783.159973  790.169983  800.510010  16216000   \n",
       "2020-04-30  869.820007  763.500000  855.190002  781.880005  28471900   \n",
       "2020-05-01  772.770020  683.039978  755.000000  701.320007  32479600   \n",
       "\n",
       "             Adj Close  \n",
       "Date                    \n",
       "2019-12-31  418.329987  \n",
       "2020-01-02  430.260010  \n",
       "2020-01-03  443.010010  \n",
       "2020-01-06  451.540009  \n",
       "2020-01-07  469.059998  \n",
       "...                ...  \n",
       "2020-04-27  798.750000  \n",
       "2020-04-28  769.119995  \n",
       "2020-04-29  800.510010  \n",
       "2020-04-30  781.880005  \n",
       "2020-05-01  701.320007  \n",
       "\n",
       "[85 rows x 6 columns]"
      ]
     },
     "execution_count": 29,
     "metadata": {},
     "output_type": "execute_result"
    }
   ],
   "source": [
    "stocks"
   ]
  },
  {
   "cell_type": "markdown",
   "metadata": {},
   "source": [
    "### Let see stocks on a particular date"
   ]
  },
  {
   "cell_type": "code",
   "execution_count": 30,
   "metadata": {},
   "outputs": [
    {
     "data": {
      "text/plain": [
       "High         7.727700e+02\n",
       "Low          6.830400e+02\n",
       "Open         7.550000e+02\n",
       "Close        7.013200e+02\n",
       "Volume       3.247960e+07\n",
       "Adj Close    7.013200e+02\n",
       "Name: 2020-05-01 00:00:00, dtype: float64"
      ]
     },
     "execution_count": 30,
     "metadata": {},
     "output_type": "execute_result"
    }
   ],
   "source": [
    "# Using .loc[]\n",
    "stocks.loc['2020-5-1']"
   ]
  },
  {
   "cell_type": "code",
   "execution_count": 31,
   "metadata": {},
   "outputs": [
    {
     "data": {
      "text/plain": [
       "High         7.727700e+02\n",
       "Low          6.830400e+02\n",
       "Open         7.550000e+02\n",
       "Close        7.013200e+02\n",
       "Volume       3.247960e+07\n",
       "Adj Close    7.013200e+02\n",
       "Name: 2020-05-01 00:00:00, dtype: float64"
      ]
     },
     "execution_count": 31,
     "metadata": {},
     "output_type": "execute_result"
    }
   ],
   "source": [
    "# Using .iloc[index]\n",
    "stocks.iloc[84]"
   ]
  },
  {
   "cell_type": "markdown",
   "metadata": {},
   "source": [
    "### See Stocks information for a particular time interval, here we use .truncate( ) "
   ]
  },
  {
   "cell_type": "code",
   "execution_count": 32,
   "metadata": {},
   "outputs": [
    {
     "data": {
      "text/html": [
       "<div>\n",
       "<style scoped>\n",
       "    .dataframe tbody tr th:only-of-type {\n",
       "        vertical-align: middle;\n",
       "    }\n",
       "\n",
       "    .dataframe tbody tr th {\n",
       "        vertical-align: top;\n",
       "    }\n",
       "\n",
       "    .dataframe thead th {\n",
       "        text-align: right;\n",
       "    }\n",
       "</style>\n",
       "<table border=\"1\" class=\"dataframe\">\n",
       "  <thead>\n",
       "    <tr style=\"text-align: right;\">\n",
       "      <th></th>\n",
       "      <th>High</th>\n",
       "      <th>Low</th>\n",
       "      <th>Open</th>\n",
       "      <th>Close</th>\n",
       "      <th>Volume</th>\n",
       "      <th>Adj Close</th>\n",
       "    </tr>\n",
       "    <tr>\n",
       "      <th>Date</th>\n",
       "      <th></th>\n",
       "      <th></th>\n",
       "      <th></th>\n",
       "      <th></th>\n",
       "      <th></th>\n",
       "      <th></th>\n",
       "    </tr>\n",
       "  </thead>\n",
       "  <tbody>\n",
       "    <tr>\n",
       "      <th>2020-01-02</th>\n",
       "      <td>430.700012</td>\n",
       "      <td>421.709991</td>\n",
       "      <td>424.500000</td>\n",
       "      <td>430.260010</td>\n",
       "      <td>9532100</td>\n",
       "      <td>430.260010</td>\n",
       "    </tr>\n",
       "    <tr>\n",
       "      <th>2020-01-03</th>\n",
       "      <td>454.000000</td>\n",
       "      <td>436.920013</td>\n",
       "      <td>440.500000</td>\n",
       "      <td>443.010010</td>\n",
       "      <td>17778500</td>\n",
       "      <td>443.010010</td>\n",
       "    </tr>\n",
       "    <tr>\n",
       "      <th>2020-01-06</th>\n",
       "      <td>451.559998</td>\n",
       "      <td>440.000000</td>\n",
       "      <td>440.470001</td>\n",
       "      <td>451.540009</td>\n",
       "      <td>10133000</td>\n",
       "      <td>451.540009</td>\n",
       "    </tr>\n",
       "    <tr>\n",
       "      <th>2020-01-07</th>\n",
       "      <td>471.630005</td>\n",
       "      <td>453.359985</td>\n",
       "      <td>461.399994</td>\n",
       "      <td>469.059998</td>\n",
       "      <td>17882100</td>\n",
       "      <td>469.059998</td>\n",
       "    </tr>\n",
       "    <tr>\n",
       "      <th>2020-01-08</th>\n",
       "      <td>498.489990</td>\n",
       "      <td>468.230011</td>\n",
       "      <td>473.700012</td>\n",
       "      <td>492.140015</td>\n",
       "      <td>31144300</td>\n",
       "      <td>492.140015</td>\n",
       "    </tr>\n",
       "    <tr>\n",
       "      <th>...</th>\n",
       "      <td>...</td>\n",
       "      <td>...</td>\n",
       "      <td>...</td>\n",
       "      <td>...</td>\n",
       "      <td>...</td>\n",
       "      <td>...</td>\n",
       "    </tr>\n",
       "    <tr>\n",
       "      <th>2020-04-20</th>\n",
       "      <td>765.570007</td>\n",
       "      <td>712.210022</td>\n",
       "      <td>732.700012</td>\n",
       "      <td>746.359985</td>\n",
       "      <td>14746600</td>\n",
       "      <td>746.359985</td>\n",
       "    </tr>\n",
       "    <tr>\n",
       "      <th>2020-04-21</th>\n",
       "      <td>753.330017</td>\n",
       "      <td>673.789978</td>\n",
       "      <td>730.119995</td>\n",
       "      <td>686.719971</td>\n",
       "      <td>20209100</td>\n",
       "      <td>686.719971</td>\n",
       "    </tr>\n",
       "    <tr>\n",
       "      <th>2020-04-22</th>\n",
       "      <td>734.000000</td>\n",
       "      <td>688.710022</td>\n",
       "      <td>703.979980</td>\n",
       "      <td>732.109985</td>\n",
       "      <td>14224800</td>\n",
       "      <td>732.109985</td>\n",
       "    </tr>\n",
       "    <tr>\n",
       "      <th>2020-04-23</th>\n",
       "      <td>734.000000</td>\n",
       "      <td>703.130005</td>\n",
       "      <td>727.599976</td>\n",
       "      <td>705.630005</td>\n",
       "      <td>13236700</td>\n",
       "      <td>705.630005</td>\n",
       "    </tr>\n",
       "    <tr>\n",
       "      <th>2020-04-24</th>\n",
       "      <td>730.729980</td>\n",
       "      <td>698.179993</td>\n",
       "      <td>710.809998</td>\n",
       "      <td>725.150024</td>\n",
       "      <td>13237600</td>\n",
       "      <td>725.150024</td>\n",
       "    </tr>\n",
       "  </tbody>\n",
       "</table>\n",
       "<p>79 rows × 6 columns</p>\n",
       "</div>"
      ],
      "text/plain": [
       "                  High         Low        Open       Close    Volume  \\\n",
       "Date                                                                   \n",
       "2020-01-02  430.700012  421.709991  424.500000  430.260010   9532100   \n",
       "2020-01-03  454.000000  436.920013  440.500000  443.010010  17778500   \n",
       "2020-01-06  451.559998  440.000000  440.470001  451.540009  10133000   \n",
       "2020-01-07  471.630005  453.359985  461.399994  469.059998  17882100   \n",
       "2020-01-08  498.489990  468.230011  473.700012  492.140015  31144300   \n",
       "...                ...         ...         ...         ...       ...   \n",
       "2020-04-20  765.570007  712.210022  732.700012  746.359985  14746600   \n",
       "2020-04-21  753.330017  673.789978  730.119995  686.719971  20209100   \n",
       "2020-04-22  734.000000  688.710022  703.979980  732.109985  14224800   \n",
       "2020-04-23  734.000000  703.130005  727.599976  705.630005  13236700   \n",
       "2020-04-24  730.729980  698.179993  710.809998  725.150024  13237600   \n",
       "\n",
       "             Adj Close  \n",
       "Date                    \n",
       "2020-01-02  430.260010  \n",
       "2020-01-03  443.010010  \n",
       "2020-01-06  451.540009  \n",
       "2020-01-07  469.059998  \n",
       "2020-01-08  492.140015  \n",
       "...                ...  \n",
       "2020-04-20  746.359985  \n",
       "2020-04-21  686.719971  \n",
       "2020-04-22  732.109985  \n",
       "2020-04-23  705.630005  \n",
       "2020-04-24  725.150024  \n",
       "\n",
       "[79 rows x 6 columns]"
      ]
     },
     "execution_count": 32,
     "metadata": {},
     "output_type": "execute_result"
    }
   ],
   "source": [
    "stocks.truncate(before=\"2020-1-1\",after=\"2020-4-25\")\n",
    "# You can observe table avoids information before 01/01/2020 and after 25/04/2020 "
   ]
  },
  {
   "cell_type": "markdown",
   "metadata": {},
   "source": [
    "### TimeDelta"
   ]
  },
  {
   "cell_type": "code",
   "execution_count": 33,
   "metadata": {},
   "outputs": [],
   "source": [
    "timea=pd.Timestamp('2020-05-03 19:41:00')\n",
    "timeb = pd.Timestamp('2020-05-05 19:41:00')"
   ]
  },
  {
   "cell_type": "code",
   "execution_count": 34,
   "metadata": {},
   "outputs": [
    {
     "data": {
      "text/plain": [
       "Timedelta('2 days 00:00:00')"
      ]
     },
     "execution_count": 34,
     "metadata": {},
     "output_type": "execute_result"
    }
   ],
   "source": [
    "timeb-timea"
   ]
  },
  {
   "cell_type": "code",
   "execution_count": 35,
   "metadata": {},
   "outputs": [
    {
     "data": {
      "text/plain": [
       "Timedelta('72 days 10:20:25')"
      ]
     },
     "execution_count": 35,
     "metadata": {},
     "output_type": "execute_result"
    }
   ],
   "source": [
    "pd.Timedelta(weeks =10,days=2,hours=10,minutes=20,seconds=25)"
   ]
  },
  {
   "cell_type": "markdown",
   "metadata": {},
   "source": [
    "### Let's calculate delievery time using Ecommerce.csv file"
   ]
  },
  {
   "cell_type": "code",
   "execution_count": 36,
   "metadata": {},
   "outputs": [],
   "source": [
    "df = pd.read_csv('ecommerce.csv', index_col='ID')"
   ]
  },
  {
   "cell_type": "code",
   "execution_count": 37,
   "metadata": {},
   "outputs": [
    {
     "name": "stdout",
     "output_type": "stream",
     "text": [
      "<class 'pandas.core.frame.DataFrame'>\n",
      "Int64Index: 501 entries, 1 to 997\n",
      "Data columns (total 2 columns):\n",
      " #   Column         Non-Null Count  Dtype \n",
      "---  ------         --------------  ----- \n",
      " 0   order_date     501 non-null    object\n",
      " 1   delivery_date  501 non-null    object\n",
      "dtypes: object(2)\n",
      "memory usage: 7.8+ KB\n"
     ]
    }
   ],
   "source": [
    "df.info()"
   ]
  },
  {
   "cell_type": "markdown",
   "metadata": {},
   "source": [
    "   ###  To convert order_date and delivery_date in to `datetime format` we use `parse_dates`"
   ]
  },
  {
   "cell_type": "code",
   "execution_count": 38,
   "metadata": {},
   "outputs": [],
   "source": [
    "# To convert order_date and delivery_date in to datetime format we use Parse_dates\n",
    "\n",
    "df = pd.read_csv('ecommerce.csv', index_col='ID',parse_dates=['order_date','delivery_date'])"
   ]
  },
  {
   "cell_type": "code",
   "execution_count": 39,
   "metadata": {},
   "outputs": [
    {
     "name": "stdout",
     "output_type": "stream",
     "text": [
      "<class 'pandas.core.frame.DataFrame'>\n",
      "Int64Index: 501 entries, 1 to 997\n",
      "Data columns (total 2 columns):\n",
      " #   Column         Non-Null Count  Dtype         \n",
      "---  ------         --------------  -----         \n",
      " 0   order_date     501 non-null    datetime64[ns]\n",
      " 1   delivery_date  501 non-null    datetime64[ns]\n",
      "dtypes: datetime64[ns](2)\n",
      "memory usage: 11.7 KB\n"
     ]
    }
   ],
   "source": [
    "df.info()"
   ]
  },
  {
   "cell_type": "markdown",
   "metadata": {},
   "source": [
    "### How much time took in delivery?"
   ]
  },
  {
   "cell_type": "code",
   "execution_count": 40,
   "metadata": {},
   "outputs": [],
   "source": [
    "df['delivery_time']=df['delivery_date']-df['order_date']"
   ]
  },
  {
   "cell_type": "code",
   "execution_count": 41,
   "metadata": {
    "scrolled": true
   },
   "outputs": [
    {
     "data": {
      "text/html": [
       "<div>\n",
       "<style scoped>\n",
       "    .dataframe tbody tr th:only-of-type {\n",
       "        vertical-align: middle;\n",
       "    }\n",
       "\n",
       "    .dataframe tbody tr th {\n",
       "        vertical-align: top;\n",
       "    }\n",
       "\n",
       "    .dataframe thead th {\n",
       "        text-align: right;\n",
       "    }\n",
       "</style>\n",
       "<table border=\"1\" class=\"dataframe\">\n",
       "  <thead>\n",
       "    <tr style=\"text-align: right;\">\n",
       "      <th></th>\n",
       "      <th>order_date</th>\n",
       "      <th>delivery_date</th>\n",
       "      <th>delivery_time</th>\n",
       "    </tr>\n",
       "    <tr>\n",
       "      <th>ID</th>\n",
       "      <th></th>\n",
       "      <th></th>\n",
       "      <th></th>\n",
       "    </tr>\n",
       "  </thead>\n",
       "  <tbody>\n",
       "    <tr>\n",
       "      <th>1</th>\n",
       "      <td>1998-05-24</td>\n",
       "      <td>1999-02-05</td>\n",
       "      <td>257 days</td>\n",
       "    </tr>\n",
       "    <tr>\n",
       "      <th>2</th>\n",
       "      <td>1992-04-22</td>\n",
       "      <td>1998-03-06</td>\n",
       "      <td>2144 days</td>\n",
       "    </tr>\n",
       "    <tr>\n",
       "      <th>4</th>\n",
       "      <td>1991-02-10</td>\n",
       "      <td>1992-08-26</td>\n",
       "      <td>563 days</td>\n",
       "    </tr>\n",
       "    <tr>\n",
       "      <th>5</th>\n",
       "      <td>1992-07-21</td>\n",
       "      <td>1997-11-20</td>\n",
       "      <td>1948 days</td>\n",
       "    </tr>\n",
       "    <tr>\n",
       "      <th>7</th>\n",
       "      <td>1993-09-02</td>\n",
       "      <td>1998-06-10</td>\n",
       "      <td>1742 days</td>\n",
       "    </tr>\n",
       "    <tr>\n",
       "      <th>...</th>\n",
       "      <td>...</td>\n",
       "      <td>...</td>\n",
       "      <td>...</td>\n",
       "    </tr>\n",
       "    <tr>\n",
       "      <th>990</th>\n",
       "      <td>1991-06-24</td>\n",
       "      <td>1996-02-02</td>\n",
       "      <td>1684 days</td>\n",
       "    </tr>\n",
       "    <tr>\n",
       "      <th>991</th>\n",
       "      <td>1991-09-09</td>\n",
       "      <td>1998-03-30</td>\n",
       "      <td>2394 days</td>\n",
       "    </tr>\n",
       "    <tr>\n",
       "      <th>993</th>\n",
       "      <td>1990-11-16</td>\n",
       "      <td>1998-04-27</td>\n",
       "      <td>2719 days</td>\n",
       "    </tr>\n",
       "    <tr>\n",
       "      <th>994</th>\n",
       "      <td>1993-06-03</td>\n",
       "      <td>1993-06-13</td>\n",
       "      <td>10 days</td>\n",
       "    </tr>\n",
       "    <tr>\n",
       "      <th>997</th>\n",
       "      <td>1990-01-04</td>\n",
       "      <td>1991-10-03</td>\n",
       "      <td>637 days</td>\n",
       "    </tr>\n",
       "  </tbody>\n",
       "</table>\n",
       "<p>501 rows × 3 columns</p>\n",
       "</div>"
      ],
      "text/plain": [
       "    order_date delivery_date delivery_time\n",
       "ID                                        \n",
       "1   1998-05-24    1999-02-05      257 days\n",
       "2   1992-04-22    1998-03-06     2144 days\n",
       "4   1991-02-10    1992-08-26      563 days\n",
       "5   1992-07-21    1997-11-20     1948 days\n",
       "7   1993-09-02    1998-06-10     1742 days\n",
       "..         ...           ...           ...\n",
       "990 1991-06-24    1996-02-02     1684 days\n",
       "991 1991-09-09    1998-03-30     2394 days\n",
       "993 1990-11-16    1998-04-27     2719 days\n",
       "994 1993-06-03    1993-06-13       10 days\n",
       "997 1990-01-04    1991-10-03      637 days\n",
       "\n",
       "[501 rows x 3 columns]"
      ]
     },
     "execution_count": 41,
     "metadata": {},
     "output_type": "execute_result"
    }
   ],
   "source": [
    "df"
   ]
  }
 ],
 "metadata": {
  "kernelspec": {
   "display_name": "Python 3",
   "language": "python",
   "name": "python3"
  },
  "language_info": {
   "codemirror_mode": {
    "name": "ipython",
    "version": 3
   },
   "file_extension": ".py",
   "mimetype": "text/x-python",
   "name": "python",
   "nbconvert_exporter": "python",
   "pygments_lexer": "ipython3",
   "version": "3.8.1"
  }
 },
 "nbformat": 4,
 "nbformat_minor": 4
}
